{
 "cells": [
  {
   "cell_type": "code",
   "execution_count": 1,
   "metadata": {
    "collapsed": false
   },
   "outputs": [],
   "source": [
    "import pandas as pd\n",
    "from sklearn.linear_model import ElasticNetCV\n",
    "from sklearn.model_selection import KFold\n",
    "from numpy.random import RandomState\n",
    "from numpy import nonzero"
   ]
  },
  {
   "cell_type": "code",
   "execution_count": 2,
   "metadata": {
    "collapsed": true
   },
   "outputs": [],
   "source": [
    "##########################################\n",
    "### Data Load\n",
    "##########################################\n",
    "input_directory = '/home/share/heeyeon/csbl/users/heeyeon/tcga_files/combined_dataset/age_methyl/'\n",
    "raw_df = pd.read_table(input_directory + 'prostate_correlation.tsv', low_memory=False)"
   ]
  },
  {
   "cell_type": "code",
   "execution_count": 3,
   "metadata": {
    "collapsed": false
   },
   "outputs": [],
   "source": [
    "##########################################\n",
    "### Data preprocessing\n",
    "##########################################\n",
    "\n",
    "# Drop p-value and r column\n",
    "extracted_df = raw_df.drop(['p-value', 'r'], axis=1)\n",
    "\n",
    "# Drop gender row (Drop last row)\n",
    "extracted_df = extracted_df[:-1]\n",
    "\n",
    "# Transpose for ElasticNet input form\n",
    "input_df = extracted_df.transpose()"
   ]
  },
  {
   "cell_type": "code",
   "execution_count": 4,
   "metadata": {
    "collapsed": false
   },
   "outputs": [],
   "source": [
    "##########################################\n",
    "### Machine learning input preparation\n",
    "##########################################\n",
    "\n",
    "# Prepare X(features: cg sites) and y(labels: age)\n",
    "x_training_set = input_df.iloc[1:, :-1].astype('float64').values\n",
    "y_training_set = input_df.iloc[1:, -1].astype('float64').values\n",
    "feature_vector = input_df.iloc[0, :-1].values"
   ]
  },
  {
   "cell_type": "code",
   "execution_count": 5,
   "metadata": {
    "collapsed": false
   },
   "outputs": [
    {
     "name": "stderr",
     "output_type": "stream",
     "text": [
      "...........................................................................................................................................................................................................................................................................................................................................................................................................................................................................................................................................................................................................................................................[Parallel(n_jobs=-1)]: Done   3 out of  10 | elapsed:    5.6s remaining:   13.1s\n",
      ".............................................................................................................................................................................................................................................................................................................................................................................[Parallel(n_jobs=-1)]: Done  10 out of  10 | elapsed:   13.4s finished\n"
     ]
    },
    {
     "data": {
      "text/plain": [
       "ElasticNetCV(alphas=None, copy_X=True,\n",
       "       cv=KFold(n_splits=10, random_state=None, shuffle=True), eps=0.001,\n",
       "       fit_intercept=True, l1_ratio=0.5, max_iter=100000, n_alphas=100,\n",
       "       n_jobs=-1, normalize=False, positive=False, precompute='auto',\n",
       "       random_state=<mtrand.RandomState object at 0x7fd71449eb88>,\n",
       "       selection='random', tol=0.0001, verbose=1)"
      ]
     },
     "execution_count": 5,
     "metadata": {},
     "output_type": "execute_result"
    }
   ],
   "source": [
    "##########################################\n",
    "### Learning ElasticNet\n",
    "##########################################\n",
    "\n",
    "cv_option = KFold(n_splits=10, shuffle=True)\n",
    "elastic_net = ElasticNetCV(cv=cv_option, verbose=1, n_jobs=-1, max_iter=100000, \n",
    "                           selection='random', random_state=RandomState(None))\n",
    "elastic_net.fit(x_training_set, y_training_set)"
   ]
  },
  {
   "cell_type": "code",
   "execution_count": 16,
   "metadata": {
    "collapsed": false
   },
   "outputs": [
    {
     "name": "stdout",
     "output_type": "stream",
     "text": [
      "Total features\n",
      "['cg00001245' 'cg00003298' 'cg00007466' ..., 'ch.9.75018133F' 'rs10774834'\n",
      " 'rs348937']\n",
      "Num of total features 8026\n"
     ]
    }
   ],
   "source": [
    "##########################################\n",
    "### Print information of total feature\n",
    "##########################################\n",
    "\n",
    "print(\"Total features\")\n",
    "print(feature_vector)\n",
    "print(\"Num of total features {}\".format(len(feature_vector)))"
   ]
  },
  {
   "cell_type": "code",
   "execution_count": 15,
   "metadata": {
    "collapsed": false,
    "scrolled": true
   },
   "outputs": [
    {
     "name": "stdout",
     "output_type": "stream",
     "text": [
      "Non-zero features\n",
      "['cg00078513' 'cg00178224' 'cg00228620' 'cg00301879' 'cg00320625'\n",
      " 'cg00349361' 'cg00384707' 'cg00389619' 'cg00400259' 'cg00403874'\n",
      " 'cg00437258' 'cg00460763' 'cg00460983' 'cg00477978' 'cg00557402'\n",
      " 'cg00590039' 'cg00663575' 'cg00907200' 'cg00934746' 'cg00947319'\n",
      " 'cg01004363' 'cg01066220' 'cg01069808' 'cg01126532' 'cg01228342'\n",
      " 'cg01379846' 'cg01408932' 'cg01423883' 'cg01425746' 'cg01477379'\n",
      " 'cg01544213' 'cg01555263' 'cg01569660' 'cg01572513' 'cg01618719'\n",
      " 'cg01643712' 'cg01646795' 'cg01696605' 'cg01699298' 'cg01720616'\n",
      " 'cg01758799' 'cg01768144' 'cg01786704' 'cg01792601' 'cg01813335'\n",
      " 'cg01904776' 'cg01985201' 'cg02077237' 'cg02214414' 'cg02273436'\n",
      " 'cg02286602' 'cg02394686' 'cg02471658' 'cg02719634' 'cg02757456'\n",
      " 'cg02905426' 'cg02927042' 'cg03131829' 'cg03134147' 'cg03161190'\n",
      " 'cg03207593' 'cg03650119' 'cg03719428' 'cg03750315' 'cg03771436'\n",
      " 'cg03866831' 'cg03904042' 'cg04042248' 'cg04074004' 'cg04074536'\n",
      " 'cg04167075' 'cg04183933' 'cg04303033' 'cg04524088' 'cg04529406'\n",
      " 'cg04552480' 'cg04553112' 'cg04574346' 'cg04581892' 'cg04771084'\n",
      " 'cg04827223' 'cg04860977' 'cg04908548' 'cg04916523' 'cg05185784'\n",
      " 'cg05197133' 'cg05206587' 'cg05324696' 'cg05365685' 'cg05430997'\n",
      " 'cg05638250' 'cg05694353' 'cg05701765' 'cg05780294' 'cg05793094'\n",
      " 'cg05821046' 'cg05924652' 'cg05928290' 'cg05951178' 'cg05974878'\n",
      " 'cg06002203' 'cg06063714' 'cg06071033' 'cg06079710' 'cg06163994'\n",
      " 'cg06224587' 'cg06285921' 'cg06308972' 'cg06457736' 'cg06462874'\n",
      " 'cg06480998' 'cg06636541' 'cg06662140' 'cg06708213' 'cg06757810'\n",
      " 'cg06871123' 'cg06940110' 'cg06942142' 'cg06985415' 'cg07141565'\n",
      " 'cg07176342' 'cg07226165' 'cg07257824' 'cg07368796' 'cg07431522'\n",
      " 'cg07470512' 'cg07484910' 'cg07488576' 'cg07496173' 'cg07544653'\n",
      " 'cg07612978' 'cg07615111' 'cg07644446' 'cg07672452' 'cg07785717'\n",
      " 'cg07794367' 'cg07805040' 'cg08067268' 'cg08106792' 'cg08254200'\n",
      " 'cg08286785' 'cg08343042' 'cg08371951' 'cg08389814' 'cg08427717'\n",
      " 'cg08468011' 'cg08489410' 'cg08564375' 'cg08575330' 'cg08831077'\n",
      " 'cg08877967' 'cg08886063' 'cg09017434' 'cg09254980' 'cg09257635'\n",
      " 'cg09321086' 'cg09367901' 'cg09379345' 'cg09423651' 'cg09513276'\n",
      " 'cg09607276' 'cg09698465' 'cg09766360' 'cg09770131' 'cg09957504'\n",
      " 'cg10172760' 'cg10203034' 'cg10211414' 'cg10225362' 'cg10317314'\n",
      " 'cg10366742' 'cg10413224' 'cg10710439' 'cg10712902' 'cg10724054'\n",
      " 'cg10779489' 'cg10836392' 'cg11030744' 'cg11116798' 'cg11134777'\n",
      " 'cg11205072' 'cg11258485' 'cg11262093' 'cg11353300' 'cg11362013'\n",
      " 'cg11375053' 'cg11433081' 'cg11478584' 'cg11555315' 'cg11846112'\n",
      " 'cg11932091' 'cg11954680' 'cg11965913' 'cg12011299' 'cg12064134'\n",
      " 'cg12103475' 'cg12195369' 'cg12214908' 'cg12286462' 'cg12304663'\n",
      " 'cg12486944' 'cg12491455' 'cg12492653' 'cg12571879' 'cg12618587'\n",
      " 'cg12700074' 'cg12731325' 'cg12792180' 'cg12819144' 'cg12894917'\n",
      " 'cg12992686' 'cg13023677' 'cg13027369' 'cg13062396' 'cg13279927'\n",
      " 'cg13280043' 'cg13330868' 'cg13332729' 'cg13361185' 'cg13378934'\n",
      " 'cg13403462' 'cg13406893' 'cg13442689' 'cg13475732' 'cg13499318'\n",
      " 'cg13565619' 'cg13584718' 'cg13630855' 'cg13663912' 'cg13763098'\n",
      " 'cg13783167' 'cg13802527' 'cg13857025' 'cg13903282' 'cg14066773'\n",
      " 'cg14159672' 'cg14223671' 'cg14270687' 'cg14435098' 'cg14576825'\n",
      " 'cg14685146' 'cg14688905' 'cg14788563' 'cg14893161' 'cg14921437'\n",
      " 'cg14939082' 'cg15249341' 'cg15287443' 'cg15340334' 'cg15430169'\n",
      " 'cg15554219' 'cg15606473' 'cg15768265' 'cg15866047' 'cg15994467'\n",
      " 'cg16165575' 'cg16279786' 'cg16316993' 'cg16474696' 'cg16518348'\n",
      " 'cg16664876' 'cg16794061' 'cg16929739' 'cg16993975' 'cg17020695'\n",
      " 'cg17078116' 'cg17234150' 'cg17335108' 'cg17387870' 'cg17449465'\n",
      " 'cg17490283' 'cg17643624' 'cg17646721' 'cg17731992' 'cg17798944'\n",
      " 'cg17877220' 'cg17905188' 'cg17913405' 'cg18104646' 'cg18107355'\n",
      " 'cg18140918' 'cg18209359' 'cg18217622' 'cg18222192' 'cg18318006'\n",
      " 'cg18401778' 'cg18530645' 'cg18672998' 'cg18705301' 'cg18765712'\n",
      " 'cg18792022' 'cg19045731' 'cg19122206' 'cg19142399' 'cg19252891'\n",
      " 'cg19431051' 'cg19503249' 'cg19504605' 'cg19509988' 'cg19511994'\n",
      " 'cg19524723' 'cg19551485' 'cg19721478' 'cg19744528' 'cg19760965'\n",
      " 'cg19810723' 'cg19980199' 'cg20008140' 'cg20080492' 'cg20161227'\n",
      " 'cg20198242' 'cg20218073' 'cg20424335' 'cg20542592' 'cg20581874'\n",
      " 'cg20585869' 'cg20893022' 'cg20944701' 'cg20948151' 'cg20955836'\n",
      " 'cg20981451' 'cg21111568' 'cg21176398' 'cg21487950' 'cg21548029'\n",
      " 'cg21557879' 'cg21616051' 'cg21616161' 'cg21707633' 'cg21708130'\n",
      " 'cg21849780' 'cg21902245' 'cg21909859' 'cg21941223' 'cg22048216'\n",
      " 'cg22117498' 'cg22307029' 'cg22332339' 'cg22530519' 'cg22562942'\n",
      " 'cg22563390' 'cg22590775' 'cg22695117' 'cg22714966' 'cg22872033'\n",
      " 'cg22875332' 'cg22974630' 'cg23030040' 'cg23091758' 'cg23107878'\n",
      " 'cg23110540' 'cg23155965' 'cg23476937' 'cg23479922' 'cg23505970'\n",
      " 'cg23686831' 'cg23756442' 'cg23786209' 'cg23831517' 'cg23919385'\n",
      " 'cg24032190' 'cg24094706' 'cg24213669' 'cg24258699' 'cg24300845'\n",
      " 'cg24304618' 'cg24312283' 'cg24324837' 'cg24408436' 'cg24555906'\n",
      " 'cg24556026' 'cg24631102' 'cg24670453' 'cg24716275' 'cg24804782'\n",
      " 'cg24870096' 'cg24975581' 'cg25024993' 'cg25104397' 'cg25157291'\n",
      " 'cg25193494' 'cg25225665' 'cg25281020' 'cg25285090' 'cg25554892'\n",
      " 'cg25612754' 'cg25712005' 'cg25744682' 'cg25755428' 'cg25812043'\n",
      " 'cg26039305' 'cg26060489' 'cg26072254' 'cg26086358' 'cg26129606'\n",
      " 'cg26133164' 'cg26289788' 'cg26318206' 'cg26354017' 'cg26354157'\n",
      " 'cg26393629' 'cg26404511' 'cg26466773' 'cg26571928' 'cg26640901'\n",
      " 'cg26694831' 'cg26764761' 'cg26765260' 'cg26774205' 'cg26802289'\n",
      " 'cg26802564' 'cg26853855' 'cg26872780' 'cg26880708' 'cg26955996'\n",
      " 'cg26983535' 'cg26989927' 'cg27092248' 'cg27138600' 'cg27153400'\n",
      " 'cg27217253' 'cg27474175' 'ch.5.432310R' 'rs10774834' 'rs348937']\n",
      "Num of non-zero features 425\n"
     ]
    }
   ],
   "source": [
    "##########################################\n",
    "### Print information of non-zero feature\n",
    "##########################################\n",
    "\n",
    "non_zero_features = feature_vector[nonzero(elastic_net.coef_)]\n",
    "print(\"Non-zero features\")\n",
    "print(non_zero_features)\n",
    "print(\"Num of non-zero features {}\".format(len(non_zero_features)))"
   ]
  },
  {
   "cell_type": "code",
   "execution_count": null,
   "metadata": {
    "collapsed": true
   },
   "outputs": [],
   "source": []
  }
 ],
 "metadata": {
  "kernelspec": {
   "display_name": "Python 3",
   "language": "python",
   "name": "python3"
  },
  "language_info": {
   "codemirror_mode": {
    "name": "ipython",
    "version": 3
   },
   "file_extension": ".py",
   "mimetype": "text/x-python",
   "name": "python",
   "nbconvert_exporter": "python",
   "pygments_lexer": "ipython3",
   "version": "3.4.3"
  }
 },
 "nbformat": 4,
 "nbformat_minor": 0
}
